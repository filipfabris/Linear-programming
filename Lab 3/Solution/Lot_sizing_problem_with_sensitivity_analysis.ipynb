{
  "cells": [
    {
      "cell_type": "code",
      "execution_count": 2,
      "metadata": {
        "colab": {
          "base_uri": "https://localhost:8080/"
        },
        "id": "bFu0DvJtkP9t",
        "outputId": "a3d0c6d5-1867-46d3-bdf2-73f83bcbc203"
      },
      "outputs": [],
      "source": [
        "# When using Colab, make sure you run this instruction beforehand\n",
        "# !pip install --upgrade cffi==1.15.0\n",
        "import importlib\n",
        "import cffi\n",
        "# importlib.reload(cffi)\n",
        "# !pip install mip"
      ]
    },
    {
      "cell_type": "code",
      "execution_count": 3,
      "metadata": {
        "id": "fThm4iLPpRv4"
      },
      "outputs": [],
      "source": [
        "import mip"
      ]
    },
    {
      "cell_type": "markdown",
      "metadata": {
        "id": "e8tfwY6Eej9l"
      },
      "source": [
        "A company has to plan the production of 3 types of fabric, $A_1, A_2, A_3$, for a time horizon\n",
        "of a single month with 22 work days. Sales forecast indicate a demand, per square meter of\n",
        "fabric, of 4300, 4500, and 5225 units for, respectively, $A_1, A_2,$ and $A_3$.\n",
        "\n",
        "The following table indicates the price of each product (Euro) and its production cost per\n",
        "meter (Euro/$m^2$\n",
        "). It also reports the maximum number of square meters that can be produced\n",
        "in a single day (pieces/day), if the whole production capability of the factory is used to produce\n",
        "only that type of fabric.\n",
        "\n",
        "Product|$A_1$|$A_2$|$A_3$|\n",
        "-------|-----|-----|-----|\n",
        "Price|120|100|115|\n",
        "Production cost|74|53|66|\n",
        "Production amount|500|450|550|\n",
        "\n",
        "\n",
        "1. Give a linear programming formulation for the problem of determining a production plan that maximizes the total revenue.\n",
        "\n",
        "\n",
        "2. Which is the maximum price that the company would pay to have one extra production day per month?\n",
        "\n",
        "3. Which is the decrease in profit due to a decrease in the demand of product $A_1$ of 10 square meters?\n",
        "\n",
        "4. Which is the maximum amount of money that the company would invest in advertising, so as to increase the demand of $A_3$ by 100 square meters?\n",
        "\n",
        "5. Which is the maximum decrease in the demand of $A_2$ such that the optimal solution does not change?\n",
        "\n"
      ]
    },
    {
      "cell_type": "code",
      "execution_count": 4,
      "metadata": {
        "id": "SHX0J54ieiUN"
      },
      "outputs": [],
      "source": [
        "# Set definition \n",
        "\n",
        "# Products\n",
        "J = range(3)\n",
        "# Production days per month\n",
        "B = 22\n",
        "# Demand for product \n",
        "d = [4300, 4500, 5225]\n",
        "# Price for product\n",
        "r = [120, 100, 115]\n",
        "# Production cost for product\n",
        "c = [74, 53, 66]\n",
        "# Maximum production amount\n",
        "q = [500, 450, 550]"
      ]
    },
    {
      "cell_type": "code",
      "execution_count": 5,
      "metadata": {
        "id": "aC866pRudECt"
      },
      "outputs": [],
      "source": [
        "# Model definition\n",
        "model = mip.Model()"
      ]
    },
    {
      "cell_type": "code",
      "execution_count": 6,
      "metadata": {
        "id": "Q5ztrauyeiXU"
      },
      "outputs": [],
      "source": [
        "# Variables definition\n",
        "x = [model.add_var(lb=0) for j in J]"
      ]
    },
    {
      "cell_type": "code",
      "execution_count": 7,
      "metadata": {
        "id": "uJvFsTqdeia4"
      },
      "outputs": [],
      "source": [
        "# Objective function definition\n",
        "model.objective = mip.maximize(mip.xsum((r[j]-c[j])*x[j] for j in J))"
      ]
    },
    {
      "cell_type": "code",
      "execution_count": 8,
      "metadata": {
        "colab": {
          "base_uri": "https://localhost:8080/"
        },
        "id": "Nh2XELUFd2S7",
        "outputId": "4522c086-0dd0-4997-c7cf-4795ffb93b56"
      },
      "outputs": [
        {
          "data": {
            "text/plain": [
              "<mip.entities.Constr at 0x1de78aa23c0>"
            ]
          },
          "execution_count": 8,
          "metadata": {},
          "output_type": "execute_result"
        }
      ],
      "source": [
        "# Demand constraints\n",
        "for j in J:\n",
        "    model.add_constr(x[j] <= d[j])\n",
        "\n",
        "# Production constraints\n",
        "model.add_constr(mip.xsum(x[j]/q[j] for j in J) <= B)"
      ]
    },
    {
      "cell_type": "code",
      "execution_count": 9,
      "metadata": {
        "colab": {
          "base_uri": "https://localhost:8080/"
        },
        "id": "0GrDMpq9TCAO",
        "outputId": "9b1b23ae-4d72-4871-bd1a-95920f311343"
      },
      "outputs": [
        {
          "data": {
            "text/plain": [
              "<OptimizationStatus.OPTIMAL: 0>"
            ]
          },
          "execution_count": 9,
          "metadata": {},
          "output_type": "execute_result"
        }
      ],
      "source": [
        "# Solve\n",
        "model.optimize()"
      ]
    },
    {
      "cell_type": "markdown",
      "metadata": {
        "id": "G4y7nNYpXKv5"
      },
      "source": [
        "### Formulation\n",
        "\n",
        "**Sets**\n",
        "\n",
        "*   $J$: products\n",
        "\n",
        "**Parameters**\n",
        "*   $B$: production days per month\n",
        "*   $d_j$: demand for product\n",
        "*   $r_j$: price for product $j \\in J$\n",
        "*   $c_j$: production cost for product $j \\in J$\n",
        "*   $q_j$: maximum production amount $j \\in J$\n",
        "\n",
        "**Variables**\n",
        "*   $x_j \\in \\mathbb{R}^+$: square meters of product $j \\in J$\n",
        "\n",
        "**Model**\n",
        "\n",
        "\\begin{array}{lll}\n",
        "\\max & \\sum_{j \\in J} (r_j - c_j)x_j \\qquad & & \\text{(revenue)}\\\\\n",
        "\\textrm{s. t.}\n",
        "& x_j \\leq d_j & j \\in J & \\text{(demand)}&\\\\\n",
        "& \\sum_{j \\in J} \\frac{x_j}{q_j} \\leq B & & \\text{(production)} & \\\\\n",
        "& x_j \\in \\mathbb{R}^+ & j \\in J & \\text{(nonnegativity)}\n",
        "\\end{array}"
      ]
    },
    {
      "cell_type": "markdown",
      "metadata": {
        "id": "YQzPlUdVTYrw"
      },
      "source": [
        "**Which is the maximum price that the company would pay to have one extra production day per month?**"
      ]
    },
    {
      "cell_type": "markdown",
      "metadata": {
        "id": "UKLeY7DdUrC1"
      },
      "source": [
        "This information is returned back to us with the __dual variables__ of the original problem. These give the unitary change in objective function due to a change in the right-hand side in each constraint. We are asked to assess the variation in objective function value as a function of variations in B. Consider constraint $\\sum_{j \\in J} \\frac{x_j}{q_j}\\leq B$."
      ]
    },
    {
      "cell_type": "code",
      "execution_count": 13,
      "metadata": {
        "colab": {
          "base_uri": "https://localhost:8080/"
        },
        "id": "sbNojcu6Udhw",
        "outputId": "af666748-de7a-44fb-fbcd-fb3d54e1b9fc"
      },
      "outputs": [
        {
          "name": "stdout",
          "output_type": "stream",
          "text": [
            "Dual value: 10.545454545454549\n"
          ]
        }
      ],
      "source": [
        "print(\"Dual value:\", model.constrs[2].pi)"
      ]
    },
    {
      "cell_type": "code",
      "execution_count": 15,
      "metadata": {},
      "outputs": [
        {
          "data": {
            "text/plain": [
              "4"
            ]
          },
          "execution_count": 15,
          "metadata": {},
          "output_type": "execute_result"
        }
      ],
      "source": [
        "len(model.constrs)"
      ]
    },
    {
      "cell_type": "markdown",
      "metadata": {
        "id": "65OBKFaYTr-f"
      },
      "source": [
        "Its shadow price, given by the optimal value of the corresponding dual variable, amounts to 21150. Therefore, since for each extra production day the company will earn 21150 Euro, that is the maximum amount of money that the\n",
        "company will pay to increase P. "
      ]
    },
    {
      "cell_type": "markdown",
      "metadata": {
        "id": "3ce3ottpXHvy"
      },
      "source": [
        "**Which is the decrease in profit due to a decrease in the demand of product $A_1$ of 10 square meters?**"
      ]
    },
    {
      "cell_type": "code",
      "execution_count": null,
      "metadata": {
        "colab": {
          "base_uri": "https://localhost:8080/"
        },
        "id": "LTiwOOX9YPUc",
        "outputId": "7c8c5f8b-2c54-4f8a-e92c-411c9162cc0e"
      },
      "outputs": [
        {
          "name": "stdout",
          "output_type": "stream",
          "text": [
            "Dual value: 3.7000000000000024\n"
          ]
        }
      ],
      "source": [
        "print(\"Dual value:\", model.constrs[0].pi)"
      ]
    },
    {
      "cell_type": "markdown",
      "metadata": {
        "id": "-f0HUEPdXJe5"
      },
      "source": [
        "The value amounts to the shadow price for the demand constraint for product $A_1$, i.e., to 3.7. By decreasing the demand by 10 square meters, the company loses 37 Euro."
      ]
    },
    {
      "cell_type": "markdown",
      "metadata": {
        "id": "kidIRJ4bYTni"
      },
      "source": [
        "**Which is the maximum amount of money that the company would invest in advertising, so as to increase the demand of $A_3$ by 100 square meters?**"
      ]
    },
    {
      "cell_type": "code",
      "execution_count": null,
      "metadata": {
        "colab": {
          "base_uri": "https://localhost:8080/"
        },
        "id": "eduFcPgEYhG3",
        "outputId": "fb882f18-4915-493b-8717-4e56316c844d"
      },
      "outputs": [
        {
          "name": "stdout",
          "output_type": "stream",
          "text": [
            "Dual value: 10.545454545454549\n"
          ]
        }
      ],
      "source": [
        "print(\"Dual value:\", model.constrs[2].pi)"
      ]
    },
    {
      "cell_type": "markdown",
      "metadata": {
        "id": "jQ47byeqYYJV"
      },
      "source": [
        "The value amounts to the shadow price for the demand constraint for product $A_3$, i.e., to 10.5455. The maximum amount of money that the company would invest to increase by 100 square meters the demand for $A_3$ amounts to 1054.55 Euro."
      ]
    },
    {
      "cell_type": "markdown",
      "metadata": {
        "id": "HHZ4ZJc3ZtUC"
      },
      "source": [
        "**Which is the maximum decrease in the demand of $A_2$ such that the optimal solution does not change?**"
      ]
    },
    {
      "cell_type": "code",
      "execution_count": null,
      "metadata": {
        "colab": {
          "base_uri": "https://localhost:8080/"
        },
        "id": "QUxEQxv5Z_KS",
        "outputId": "027ddc00-170a-4b23-b889-e26548a81144"
      },
      "outputs": [
        {
          "name": "stdout",
          "output_type": "stream",
          "text": [
            "Dual value: -0.0\n",
            "1755.000000000001\n"
          ]
        }
      ],
      "source": [
        "print(\"Dual value:\", model.constrs[1].pi)\n",
        "print(model.vars[1].x)"
      ]
    },
    {
      "cell_type": "markdown",
      "metadata": {
        "id": "r2cw4IAoZtXg"
      },
      "source": [
        "The shadow price for the demand constraint for product A2 is 0. Any variation in the demand of such product will not change the value of the objective function. The optimality\n",
        "of the current basic solution is maintained for variations within $[1755, ∞)$."
      ]
    }
  ],
  "metadata": {
    "colab": {
      "provenance": []
    },
    "kernelspec": {
      "display_name": "Python 3",
      "name": "python3"
    },
    "language_info": {
      "codemirror_mode": {
        "name": "ipython",
        "version": 3
      },
      "file_extension": ".py",
      "mimetype": "text/x-python",
      "name": "python",
      "nbconvert_exporter": "python",
      "pygments_lexer": "ipython3",
      "version": "3.10.13"
    }
  },
  "nbformat": 4,
  "nbformat_minor": 0
}
