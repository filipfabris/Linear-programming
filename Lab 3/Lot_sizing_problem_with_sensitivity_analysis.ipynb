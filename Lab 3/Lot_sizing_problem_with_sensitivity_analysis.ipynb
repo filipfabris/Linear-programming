{
  "cells": [
    {
      "cell_type": "code",
      "execution_count": null,
      "metadata": {
        "colab": {
          "base_uri": "https://localhost:8080/",
          "height": 433
        },
        "id": "bFu0DvJtkP9t",
        "outputId": "72976b89-59f8-4f2c-fdd9-8b96d45c729e"
      },
      "outputs": [
        {
          "output_type": "stream",
          "name": "stdout",
          "text": [
            "Looking in indexes: https://pypi.org/simple, https://us-python.pkg.dev/colab-wheels/public/simple/\n",
            "Collecting cffi==1.15.0\n",
            "  Downloading cffi-1.15.0-cp37-cp37m-manylinux_2_12_x86_64.manylinux2010_x86_64.whl (427 kB)\n",
            "\u001b[K     |████████████████████████████████| 427 kB 6.1 MB/s \n",
            "\u001b[?25hRequirement already satisfied: pycparser in /usr/local/lib/python3.7/dist-packages (from cffi==1.15.0) (2.21)\n",
            "Installing collected packages: cffi\n",
            "  Attempting uninstall: cffi\n",
            "    Found existing installation: cffi 1.15.1\n",
            "    Uninstalling cffi-1.15.1:\n",
            "      Successfully uninstalled cffi-1.15.1\n",
            "Successfully installed cffi-1.15.0\n"
          ]
        },
        {
          "output_type": "display_data",
          "data": {
            "application/vnd.colab-display-data+json": {
              "pip_warning": {
                "packages": [
                  "cffi"
                ]
              }
            }
          },
          "metadata": {}
        },
        {
          "output_type": "stream",
          "name": "stdout",
          "text": [
            "Looking in indexes: https://pypi.org/simple, https://us-python.pkg.dev/colab-wheels/public/simple/\n",
            "Collecting mip\n",
            "  Downloading mip-1.14.1-py3-none-any.whl (15.3 MB)\n",
            "\u001b[K     |████████████████████████████████| 15.3 MB 6.5 MB/s \n",
            "\u001b[?25hRequirement already satisfied: cffi==1.15.0 in /usr/local/lib/python3.7/dist-packages (from mip) (1.15.0)\n",
            "Requirement already satisfied: pycparser in /usr/local/lib/python3.7/dist-packages (from cffi==1.15.0->mip) (2.21)\n",
            "Installing collected packages: mip\n",
            "Successfully installed mip-1.14.1\n"
          ]
        }
      ],
      "source": [
        "# When using Colab, make sure you run this instruction beforehand\n",
        "!pip install --upgrade cffi==1.15.0\n",
        "import importlib\n",
        "import cffi\n",
        "importlib.reload(cffi)\n",
        "!pip install mip"
      ]
    },
    {
      "cell_type": "code",
      "execution_count": null,
      "metadata": {
        "id": "fThm4iLPpRv4"
      },
      "outputs": [],
      "source": [
        "import mip"
      ]
    },
    {
      "cell_type": "markdown",
      "source": [
        "A company has to plan the production of 3 types of fabric, $A_1, A_2, A_3$, for a time horizon of a single month with 22 work days. Sales forecast indicate a demand, per square meter of fabric, of 4300, 4500, and 5225 units for, respectively, $A_1, A_2,$ and $A_3$.\n",
        "\n",
        "The following table indicates the price of each product (Euro) and its production cost per meter (Euro/$m^2$). It also reports the maximum number of square meters that can be produced in a single day (pieces/day), if the whole production capability of the factory is used to produce\n",
        "only that type of fabric.\n",
        "\n",
        "Product|$A_1$|$A_2$|$A_3$|\n",
        "-------|-----|-----|-----|\n",
        "Price|120|100|115|\n",
        "Production cost|74|53|66|\n",
        "Production amount|500|450|550|\n",
        "\n",
        "\n",
        "1. Give a linear programming formulation for the problem of determining a production plan that maximizes the total revenue.\n",
        "\n",
        "\n",
        "2. Which is the maximum price that the company would pay to have one extra production day per month?\n",
        "\n",
        "3. Which is the decrease in profit due to a decrease in the demand of product $A_1$ of 10 square meters?\n",
        "\n",
        "4. Which is the maximum amount of money that the company would invest in advertising, so as to increase the demand of $A_3$ by 100 square meters?\n",
        "\n",
        "5. Which is the maximum decrease in the demand of $A_2$ such that the optimal solution does not change?\n",
        "\n"
      ],
      "metadata": {
        "id": "e8tfwY6Eej9l"
      }
    },
    {
      "cell_type": "code",
      "source": [
        "# Set definition \n",
        "\n",
        "# Products\n",
        "J = range(3)\n",
        "# Production days per month\n",
        "B = 22\n",
        "# Demand for product \n",
        "d = [4300, 4500, 5225]\n",
        "# Price for product\n",
        "r = [120, 100, 115]\n",
        "# Production cost for product\n",
        "c = [74, 53, 66]\n",
        "# Maximum production amount\n",
        "q = [500, 450, 550]"
      ],
      "metadata": {
        "id": "SHX0J54ieiUN"
      },
      "execution_count": null,
      "outputs": []
    },
    {
      "cell_type": "code",
      "source": [
        "# Model definition\n",
        "model = mip.Model()"
      ],
      "metadata": {
        "id": "aC866pRudECt"
      },
      "execution_count": null,
      "outputs": []
    },
    {
      "cell_type": "code",
      "source": [
        "# Variables definition\n",
        "x = "
      ],
      "metadata": {
        "id": "Q5ztrauyeiXU"
      },
      "execution_count": null,
      "outputs": []
    },
    {
      "cell_type": "code",
      "source": [
        "# Objective function definition\n",
        "model.objective = mip.maximize()"
      ],
      "metadata": {
        "id": "uJvFsTqdeia4"
      },
      "execution_count": null,
      "outputs": []
    },
    {
      "cell_type": "code",
      "source": [
        "# Demand constraints\n",
        "model.add_constr()\n",
        "\n",
        "# Production constraints\n",
        "model.add_constr(mip.xsum())"
      ],
      "metadata": {
        "colab": {
          "base_uri": "https://localhost:8080/"
        },
        "id": "Nh2XELUFd2S7",
        "outputId": "b38b7e65-f92a-4103-acd6-b213a08c2f23"
      },
      "execution_count": null,
      "outputs": [
        {
          "output_type": "execute_result",
          "data": {
            "text/plain": [
              "<mip.entities.Constr at 0x7f8ac6db5410>"
            ]
          },
          "metadata": {},
          "execution_count": 11
        }
      ]
    },
    {
      "cell_type": "code",
      "source": [
        "# Solve\n",
        "model.optimize()"
      ],
      "metadata": {
        "colab": {
          "base_uri": "https://localhost:8080/"
        },
        "id": "0GrDMpq9TCAO",
        "outputId": "e52cc720-c483-482d-a011-5aaa6537f4c4"
      },
      "execution_count": null,
      "outputs": [
        {
          "output_type": "execute_result",
          "data": {
            "text/plain": [
              "<OptimizationStatus.OPTIMAL: 0>"
            ]
          },
          "metadata": {},
          "execution_count": 12
        }
      ]
    },
    {
      "cell_type": "markdown",
      "source": [
        "**Which is the maximum price that the company would pay to have one extra production day per month?**"
      ],
      "metadata": {
        "id": "YQzPlUdVTYrw"
      }
    },
    {
      "cell_type": "markdown",
      "source": [],
      "metadata": {
        "id": "UKLeY7DdUrC1"
      }
    },
    {
      "cell_type": "markdown",
      "source": [
        "**Which is the decrease in profit due to a decrease in the demand of product $A_1$ of 10 square meters?**"
      ],
      "metadata": {
        "id": "3ce3ottpXHvy"
      }
    },
    {
      "cell_type": "markdown",
      "source": [],
      "metadata": {
        "id": "-f0HUEPdXJe5"
      }
    },
    {
      "cell_type": "markdown",
      "source": [
        "**Which is the maximum amount of money that the company would invest in advertising, so as to increase the demand of $A_3$ by 100 square meters?**"
      ],
      "metadata": {
        "id": "kidIRJ4bYTni"
      }
    },
    {
      "cell_type": "markdown",
      "source": [],
      "metadata": {
        "id": "jQ47byeqYYJV"
      }
    },
    {
      "cell_type": "markdown",
      "source": [
        "**Which is the maximum decrease in the demand of $A_2$ such that the optimal solution does not change?**"
      ],
      "metadata": {
        "id": "HHZ4ZJc3ZtUC"
      }
    }
  ],
  "metadata": {
    "colab": {
      "provenance": []
    },
    "kernelspec": {
      "display_name": "Python 3",
      "name": "python3"
    },
    "language_info": {
      "name": "python"
    }
  },
  "nbformat": 4,
  "nbformat_minor": 0
}