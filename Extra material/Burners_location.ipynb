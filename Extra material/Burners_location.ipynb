{
  "cells": [
    {
      "cell_type": "code",
      "execution_count": 1,
      "metadata": {
        "colab": {
          "base_uri": "https://localhost:8080/"
        },
        "id": "bFu0DvJtkP9t",
        "outputId": "2a4911fd-b9da-41f8-ba46-3209a627c89d"
      },
      "outputs": [
        {
          "output_type": "stream",
          "name": "stdout",
          "text": [
            "Looking in indexes: https://pypi.org/simple, https://us-python.pkg.dev/colab-wheels/public/simple/\n",
            "Requirement already satisfied: cffi==1.15.0 in /usr/local/lib/python3.7/dist-packages (1.15.0)\n",
            "Requirement already satisfied: pycparser in /usr/local/lib/python3.7/dist-packages (from cffi==1.15.0) (2.21)\n",
            "Looking in indexes: https://pypi.org/simple, https://us-python.pkg.dev/colab-wheels/public/simple/\n",
            "Requirement already satisfied: mip in /usr/local/lib/python3.7/dist-packages (1.14.1)\n",
            "Requirement already satisfied: cffi==1.15.0 in /usr/local/lib/python3.7/dist-packages (from mip) (1.15.0)\n",
            "Requirement already satisfied: pycparser in /usr/local/lib/python3.7/dist-packages (from cffi==1.15.0->mip) (2.21)\n"
          ]
        }
      ],
      "source": [
        "# When using Colab, make sure you run this instruction beforehand\n",
        "!pip install --upgrade cffi==1.15.0\n",
        "import importlib\n",
        "import cffi\n",
        "importlib.reload(cffi)\n",
        "!pip install mip"
      ]
    },
    {
      "cell_type": "code",
      "execution_count": 2,
      "metadata": {
        "id": "fThm4iLPpRv4"
      },
      "outputs": [],
      "source": [
        "import mip"
      ]
    },
    {
      "cell_type": "markdown",
      "source": [
        "We are to choose the building site for a set of burners among 10 areas $A_1,\\dots, A_{10}$, which are close to 7 cities $B_1,\\cdots,B_7$. The following table contains the symbol \"*\" for each pair of city and area that are considered to be 'close'. The second last line reports the capacity, in tons/year, of each facility (which depends on the site where the facility is built). The last line reports the building cost, in MEuro.\n",
        "\n",
        "Cities|$A_1$|$A_2$|$A_3$|$A_4$|$A_5$|$A_6$|$A_7$|$A_8$|$A_9$|$A_{10}$|\n",
        "------|-----|-----|-----|-----|-----|-----|-----|-----|-----|--------|\n",
        "$B_1$| -|*|-|-|*|*|*|-|*|-\n",
        "$B_2$| *|*|-|*|-|-|-|*|-|-\n",
        "$B_3$| -|-|-|-|*|-|-|*|*|-\n",
        "$B_4$| *|-|*|-|*|-|*|*|*|*\n",
        "$B_5$| -|-|*|*|-|-|*|-|-|*\n",
        "$B_6$| -|*|-|-|-|-|-|*|*|-\n",
        "$B_7$| -|-|*|*|-|*|*|*|-|*\n",
        "------|-----|-----|-----|-----|-----|-----|-----|-----|-----|--------\n",
        "Capacity|450|720|580|460|660|390|510|1000|830|680\n",
        "Cost|4|7|8|4|6|9|10|10|8|6\n",
        "\n",
        "Due to pollution reasons, **no more** than a burner can be build close to each city.\n",
        "\n",
        "1. Give an integer linear programming formulation for the problem of maximizing the total capacity of the burners.\n",
        "\n",
        "2. Give an integer linear programming formulation for the variant where the total building cost must be nongreater than 10 MEuro.\n"
      ],
      "metadata": {
        "id": "e8tfwY6Eej9l"
      }
    },
    {
      "cell_type": "code",
      "source": [],
      "metadata": {
        "id": "SHX0J54ieiUN"
      },
      "execution_count": null,
      "outputs": []
    },
    {
      "cell_type": "code",
      "source": [],
      "metadata": {
        "id": "Q5ztrauyeiXU"
      },
      "execution_count": null,
      "outputs": []
    },
    {
      "cell_type": "code",
      "source": [],
      "metadata": {
        "id": "uJvFsTqdeia4"
      },
      "execution_count": null,
      "outputs": []
    }
  ],
  "metadata": {
    "colab": {
      "provenance": [],
      "collapsed_sections": []
    },
    "kernelspec": {
      "display_name": "Python 3",
      "name": "python3"
    },
    "language_info": {
      "name": "python"
    }
  },
  "nbformat": 4,
  "nbformat_minor": 0
}